{
 "cells": [
  {
   "cell_type": "code",
   "execution_count": null,
   "metadata": {},
   "outputs": [],
   "source": [
    "# Imports\n",
    "import pandas as pd\n",
    "import numpy as np\n",
    "import plotly.express as px\n",
    "import plotly.io as pio\n",
    "from sklearn.model_selection import train_test_split\n",
    "from sklearn.ensemble import RandomForestRegressor\n",
    "from sklearn.metrics import mean_squared_error, r2_score\n",
    "from nltk.sentiment.vader import SentimentIntensityAnalyzer\n",
    "import nltk\n",
    "import webbrowser\n",
    "import os\n",
    "nltk.download('vader_lexicon')"
   ]
  },
  {
   "cell_type": "code",
   "execution_count": null,
   "metadata": {},
   "outputs": [],
   "source": [
    "# Step 1: Load the Dataset\n",
    "apps_df = pd.read_csv('Play Store Data.csv')\n",
    "reviews_df = pd.read_csv('User Reviews.csv')"
   ]
  },
  {
   "cell_type": "code",
   "execution_count": null,
   "metadata": {},
   "outputs": [],
   "source": [
    "# Step 2: Data Cleaning\n",
    "apps_df = apps_df.dropna(subset=['Rating'])\n",
    "for column in apps_df.columns:\n",
    "    apps_df[column].fillna(apps_df[column].mode()[0], inplace=True)\n",
    "apps_df.drop_duplicates(inplace=True)\n",
    "apps_df = apps_df[apps_df['Rating'] <= 5]\n",
    "reviews_df.dropna(subset=['Translated_Review'], inplace=True)\n",
    "# Merge datasets\n",
    "merged_df = pd.merge(apps_df, reviews_df, on='App', how='inner')"
   ]
  },
  {
   "cell_type": "code",
   "execution_count": null,
   "metadata": {},
   "outputs": [],
   "source": [
    "# Step 3: Data Transformation\n",
    "apps_df['Reviews'] = apps_df['Reviews'].astype(int)\n",
    "apps_df['Installs'] = apps_df['Installs'].str.replace(',', '').str.replace('+', '').astype(int)\n",
    "apps_df['Price'] = apps_df['Price'].str.replace('$', '').astype(float)\n",
    "def convert_size(size):\n",
    "    if 'M' in size:\n",
    "        return float(size.replace('M', ''))\n",
    "    elif 'k' in size:\n",
    "        return float(size.replace('k', '')) / 1024\n",
    "    else:\n",
    "        return np.nan\n",
    "apps_df['Size'] = apps_df['Size'].apply(convert_size)\n",
    "apps_df['Log_Installs'] = np.log1p(apps_df['Installs'])\n",
    "apps_df['Log_Reviews'] = np.log1p(apps_df['Reviews'])\n",
    "def rating_group(rating):\n",
    "    if rating >= 4:\n",
    "        return 'Top rated'\n",
    "    elif rating >= 3:\n",
    "        return 'Above average'\n",
    "    elif rating >= 2:\n",
    "        return 'Average'\n",
    "    else:\n",
    "        return 'Below average'\n",
    "apps_df['Rating_Group'] = apps_df['Rating'].apply(rating_group)\n",
    "apps_df['Revenue'] = apps_df['Price'] * apps_df['Installs']\n",
    "# Sentiment Analysis\n",
    "sia = SentimentIntensityAnalyzer()\n",
    "reviews_df['Sentiment_Score'] = reviews_df['Translated_Review'].apply(lambda x: sia.polarity_scores(str(x))['compound'])\n",
    "apps_df['Last Updated'] = pd.to_datetime(apps_df['Last Updated'], errors='coerce')\n",
    "apps_df['Year'] = apps_df['Last Updated'].dt.year"
   ]
  },
  {
   "cell_type": "code",
   "execution_count": null,
   "metadata": {},
   "outputs": [],
   "source": [
    "# Step 4: Initialize HTML Dashboard\n",
    "html_files_path = './'\n",
    "if not os.path.exists(html_files_path):\n",
    "    os.makedirs(html_files_path)\n",
    "plot_containers = ''\n",
    "def save_plot_as_html(fig, filename, insight):\n",
    "    global plot_containers\n",
    "    filepath = os.path.join(html_files_path, filename)\n",
    "    html_content = pio.to_html(fig, full_html=False, include_plotlyjs='inline')\n",
    "    plot_containers += f\"\"\"\n",
    "    <div class='plot-container' id='{filename}' onclick=\"openPlot('{filename}')\">\n",
    "        <div class='plot'>{html_content}</div>\n",
    "        <div class='insights'>{insight}</div>\n",
    "    </div>\n",
    "    \"\"\"\n",
    "    fig.write_html(filepath, full_html=False, include_plotlyjs='inline')"
   ]
  },
  {
   "cell_type": "code",
   "execution_count": null,
   "metadata": {},
   "outputs": [],
   "source": [
    "# Step 5: Create Plots\n",
    "# Example: Category Analysis Plot\n",
    "category_counts = apps_df['Category'].value_counts().nlargest(10)\n",
    "fig1 = px.bar(\n",
    "    x=category_counts.index,\n",
    "    y=category_counts.values,\n",
    "    labels={'x': 'Category', 'y': 'Count'},\n",
    "    title='Top Categories on Play Store',\n",
    "    color=category_counts.index,\n",
    "    color_discrete_sequence=px.colors.sequential.Plasma\n",
    ")\n",
    "save_plot_as_html(fig1, 'category_analysis.html', 'Top categories are dominated by tools, entertainment, and productivity apps.')"
   ]
  },
  {
   "cell_type": "code",
   "execution_count": null,
   "metadata": {},
   "outputs": [],
   "source": [
    "# Step 6: Add more plots (type, ratings, installs, etc.) in separate cells\n",
    "# ... repeat save_plot_as_html for fig2, fig3 ... fig10"
   ]
  },
  {
   "cell_type": "code",
   "execution_count": null,
   "metadata": {},
   "outputs": [],
   "source": [
    "# Step 7: Create the final HTML dashboard\n",
    "dashboard_html = \"\"\"\n",
    "<!DOCTYPE html>\n",
    "<html lang='en'>\n",
    "<head>\n",
    "    <meta charset='UTF-8'>\n",
    "    <meta name='viewport' content='width=device-width, initial-scale=1.0'>\n",
    "    <title>Google Play Store Reviews Analytics</title>\n",
    "    <style>\n",
    "        body {{ font-family: Arial; background-color: #333; color: #fff; margin:0; padding:0; }}\n",
    "        .container {{ display:flex; flex-wrap:wrap; justify-content:center; padding:20px; }}\n",
    "        .plot-container {{ border:2px solid #555; margin:10px; padding:10px; width:400px; height:300px; overflow:hidden; position:relative; cursor:pointer; }}\n",
    "        .insights {{ display:none; position:absolute; right:10px; top:10px; background-color: rgba(0,0,0,0.7); padding:5px; border-radius:5px; color:#fff; }}\n",
    "        .plot-container:hover .insights {{ display:block; }}\n",
    "    </style>\n",
    "    <script>\n",
    "        function openPlot(filename) {{ window.open(filename,'_blank'); }}\n",
    "    </script>\n",
    "</head>\n",
    "<body>\n",
    "    <div class='container'>\n",
    "        {plots}\n",
    "    </div>\n",
    "</body>\n",
    "</html>\n",
    "\"\"\"\n",
    "final_html = dashboard_html.format(plots=plot_containers)\n",
    "dashboard_path = os.path.join(html_files_path, 'dashboard.html')\n",
    "with open(dashboard_path, 'w', encoding='utf-8') as f:\n",
    "    f.write(final_html)\n",
    "webbrowser.open('file://' + os.path.realpath(dashboard_path))"
   ]
  }
 ],
 "metadata": {
  "kernelspec": {
   "name": "python3",
   "display_name": "Python 3"
  },
  "language_info": {
   "name": "python",
   "version": "3.11"
  }
 },
 "nbformat": 4,
 "nbformat_minor": 5
}
