# =======================
# Google Play Store Analysis
# =======================

import pandas as pd
import numpy as np
import plotly.express as px
import plotly.io as pio
from nltk.sentiment.vader import SentimentIntensityAnalyzer
import nltk
import os

# Set Plotly renderer for inline display (works in Jupyter/GitHub)
pio.renderers.default = "notebook"

# Download VADER lexicon
nltk.download('vader_lexicon')

# =======================
# Step 1: Load Dataset
# =======================
apps_df = pd.read_csv('Play Store Data.csv')
reviews_df = pd.read_csv('User Reviews.csv')

# =======================
# Step 2: Data Cleaning
# =======================
# Drop rows with missing Ratings
apps_df = apps_df.dropna(subset=['Rating'])

# Fill other missing values with mode
for column in apps_df.columns:
    apps_df[column].fillna(apps_df[column].mode()[0], inplace=True)

# Drop duplicates
apps_df.drop_duplicates(inplace=True)

# Keep ratings <= 5
apps_df = apps_df[apps_df['Rating'] <= 5]

# Drop missing reviews
reviews_df.dropna(subset=['Translated_Review'], inplace=True)

# Merge datasets
merged_df = pd.merge(apps_df, reviews_df, on='App', how='inner')

# =======================
# Step 3: Data Transformation
# =======================
# Convert numeric columns
apps_df['Reviews'] = apps_df['Reviews'].astype(int)
apps_df['Installs'] = apps_df['Installs'].str.replace(',', '').str.replace('+', '').astype(int)
apps_df['Price'] = apps_df['Price'].str.replace('$', '').astype(float)

# Convert app Size to MB
def convert_size(size):
    if 'M' in size:
        return float(size.replace('M', ''))
    elif 'k' in size:
        return float(size.replace('k', '')) / 1024
    else:
        return np.nan

apps_df['Size'] = apps_df['Size'].apply(convert_size)

# Add log columns
apps_df['Log_Installs'] = np.log1p(apps_df['Installs'])
apps_df['Log_Reviews'] = np.log1p(apps_df['Reviews'])

# Add Rating Group
def rating_group(rating):
    if rating >= 4:
        return 'Top rated'
    elif rating >= 3:
        return 'Above average'
    elif rating >= 2:
        return 'Average'
    else:
        return 'Below average'

apps_df['Rating_Group'] = apps_df['Rating'].apply(rating_group)

# Add Revenue column
apps_df['Revenue'] = apps_df['Price'] * apps_df['Installs']

# Sentiment Analysis
sia = SentimentIntensityAnalyzer()
reviews_df['Sentiment_Score'] = reviews_df['Translated_Review'].apply(lambda x: sia.polarity_scores(str(x))['compound'])

# Extract year from Last Updated
apps_df['Last Updated'] = pd.to_datetime(apps_df['Last Updated'], errors='coerce')
apps_df['Year'] = apps_df['Last Updated'].dt.year

# =======================
# Step 4: Plotly Visualizations
# =======================
# Define plot style
plot_width = 400
plot_height = 300
plot_bg_color = 'black'
text_color = 'white'
title_font = {'size': 16}
axis_font = {'size': 12}

# Helper function to save plots as HTML
html_files_path = "./plots"
os.makedirs(html_files_path, exist_ok=True)

def save_plot(fig, filename):
    fig.write_html(os.path.join(html_files_path, filename), full_html=True)

# ---------- Category Analysis ----------
category_counts = apps_df['Category'].value_counts().nlargest(10)
fig1 = px.bar(
    x=category_counts.index,
    y=category_counts.values,
    labels={'x':'Category','y':'Count'},
    title='Top Categories on Play Store',
    color=category_counts.index,
    color_discrete_sequence=px.colors.sequential.Plasma,
    width=plot_width,
    height=plot_height
)
fig1.update_layout(plot_bgcolor=plot_bg_color, paper_bgcolor=plot_bg_color, font_color=text_color)
save_plot(fig1, "category_analysis.html")
fig1.show()

# ---------- App Type Analysis ----------
type_counts = apps_df['Type'].value_counts()
fig2 = px.pie(
    values=type_counts.values,
    names=type_counts.index,
    title='App Type Distribution',
    color_discrete_sequence=px.colors.sequential.RdBu,
    width=plot_width,
    height=plot_height
)
fig2.update_traces(textposition='inside', textinfo='percent+label')
save_plot(fig2, "type_analysis.html")
fig2.show()

# ---------- Rating Distribution ----------
fig3 = px.histogram(
    apps_df,
    x='Rating',
    nbins=20,
    title='Rating Distribution',
    color_discrete_sequence=['#636EFA'],
    width=plot_width,
    height=plot_height
)
save_plot(fig3, "rating_distribution.html")
fig3.show()

# ---------- Sentiment Distribution ----------
sentiment_counts = reviews_df['Sentiment_Score'].value_counts()
fig4 = px.bar(
    x=sentiment_counts.index,
    y=sentiment_counts.values,
    labels={'x':'Sentiment Score','y':'Count'},
    title='Sentiment Distribution',
    color=sentiment_counts.index,
    color_discrete_sequence=px.colors.sequential.RdPu,
    width=plot_width,
    height=plot_height
)
save_plot(fig4, "sentiment_distribution.html")
fig4.show()

# ---------- Installs by Category ----------
installs_by_category = apps_df.groupby('Category')['Installs'].sum().nlargest(10)
fig5 = px.bar(
    x=installs_by_category.values,
    y=installs_by_category.index,
    orientation='h',
    labels={'x':'Installs','y':'Category'},
    title='Installs by Category',
    color=installs_by_category.index,
    color_discrete_sequence=px.colors.sequential.Blues,
    width=plot_width,
    height=plot_height
)
save_plot(fig5, "installs_by_category.html")
fig5.show()

# =======================
# ✅ GitHub-friendly changes
# =======================
# 1. Inline display for all plots (fig.show())
# 2. Save each plot as HTML in ./plots folder
# 3. Removed webbrowser.open() — GitHub cannot render local HTML
# 4. Cleaned long HTML f-strings
# 5. Split code into sections with comments

print("All plots generated and saved in './plots' folder.")
