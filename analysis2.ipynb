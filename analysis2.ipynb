# Imports
import tkinter as tk
from tkinter import ttk
from tkinter import messagebox
import pandas as pd
import numpy as np
import matplotlib.pyplot as plt
import seaborn as sns
from matplotlib.backends.backend_tkagg import FigureCanvasTkAgg
from nltk.sentiment.vader import SentimentIntensityAnalyzer
import nltk

nltk.download('vader_lexicon')

# Step 1: Load the Dataset
apps_df = pd.read_csv('Play Store Data.csv')
reviews_df = pd.read_csv('User Reviews.csv')

# Step 2: Data Cleaning
apps_df = apps_df.dropna(subset=['Rating'])
for column in apps_df.columns:
    apps_df[column].fillna(apps_df[column].mode()[0], inplace=True)
apps_df.drop_duplicates(inplace=True)
apps_df = apps_df[apps_df['Rating'] <= 5]
reviews_df.dropna(subset=['Translated_Review'], inplace=True)

# Merge datasets
merged_df = pd.merge(apps_df, reviews_df, on='App', how='inner')

# Step 3: Data Transformation
apps_df['Reviews'] = apps_df['Reviews'].astype(int)
apps_df['Installs'] = apps_df['Installs'].str.replace(',', '').str.replace('+', '').astype(int)
apps_df['Price'] = apps_df['Price'].str.replace('$', '').astype(float)

def convert_size(size):
    if 'M' in size:
        return float(size.replace('M', ''))
    elif 'k' in size:
        return float(size.replace('k', '')) / 1024
    else:
        return np.nan

apps_df['Size'] = apps_df['Size'].apply(convert_size)
apps_df['Log_Installs'] = np.log1p(apps_df['Installs'])
apps_df['Log_Reviews'] = np.log1p(apps_df['Reviews'])

def rating_group(rating):
    if rating >= 4:
        return 'Top rated'
    elif rating >= 3:
        return 'Above average'
    elif rating >= 2:
        return 'Average'
    else:
        return 'Below average'

apps_df['Rating_Group'] = apps_df['Rating'].apply(rating_group)
apps_df['Revenue'] = apps_df['Price'] * apps_df['Installs']

sia = SentimentIntensityAnalyzer()
reviews_df['Sentiment_Score'] = reviews_df['Translated_Review'].apply(lambda x: sia.polarity_scores(str(x))['compound'])

apps_df['Last Updated'] = pd.to_datetime(apps_df['Last Updated'], errors='coerce')
apps_df['Year'] = apps_df['Last Updated'].dt.year

# Step 4: Tkinter Dashboard
class AppDashboard(tk.Tk):
    def __init__(self):
        super().__init__()
        self.title("Google Play Store Analysis Dashboard")
        self.geometry("1200x800")
        self.configure(bg='lightgray')
        
        main_frame = tk.Frame(self)
        main_frame.pack(fill=tk.BOTH, expand=True)
        
        canvas = tk.Canvas(main_frame, bg='lightgray')
        v_scrollbar = ttk.Scrollbar(main_frame, orient='vertical', command=canvas.yview)
        h_scrollbar = ttk.Scrollbar(main_frame, orient='horizontal', command=canvas.xview)
        v_scrollbar.pack(side='right', fill='y')
        h_scrollbar.pack(side='bottom', fill='x')
        canvas.pack(side='left', fill='both', expand=True)
        
        scrollable_frame = ttk.Frame(canvas)
        scrollable_frame.bind('<Configure>', lambda e: canvas.configure(scrollregion=canvas.bbox('all')))
        canvas.create_window((0, 0), window=scrollable_frame, anchor='nw')
        canvas.configure(yscrollcommand=v_scrollbar.set, xscrollcommand=h_scrollbar.set)
        
        for i in range(6): 
            scrollable_frame.columnconfigure(i, weight=1)
        
        # Create plots
        self.create_category_plot(scrollable_frame)
        self.create_type_plot(scrollable_frame)
        self.create_rating_plot(scrollable_frame)
        self.create_sentiment_plot(scrollable_frame)
    
    def create_category_plot(self, parent):
        category_counts = apps_df['Category'].value_counts().nlargest(10)
        fig, ax = plt.subplots(figsize=(6,4))
        sns.barplot(x=category_counts.index, y=category_counts.values, ax=ax, palette='plasma')
        ax.set_title("Top Categories")
        ax.set_ylabel("Count")
        ax.set_xlabel("Category")
        plt.xticks(rotation=45)
        canvas = FigureCanvasTkAgg(fig, master=parent)
        canvas.draw()
        canvas.get_tk_widget().grid(row=0, column=0, padx=10, pady=10)
    
    def create_type_plot(self, parent):
        type_counts = apps_df['Type'].value_counts()
        fig, ax = plt.subplots(figsize=(6,4))
        sns.barplot(x=type_counts.index, y=type_counts.values, ax=ax, palette='RdBu')
        ax.set_title("App Type Distribution")
        ax.set_ylabel("Count")
        ax.set_xlabel("Type")
        canvas = FigureCanvasTkAgg(fig, master=parent)
        canvas.draw()
        canvas.get_tk_widget().grid(row=0, column=1, padx=10, pady=10)
    
    def create_rating_plot(self, parent):
        fig, ax = plt.subplots(figsize=(6,4))
        sns.histplot(apps_df['Rating'], bins=20, kde=False, color='#636EFA', ax=ax)
        ax.set_title("Rating Distribution")
        ax.set_xlabel("Rating")
        ax.set_ylabel("Count")
        canvas = FigureCanvasTkAgg(fig, master=parent)
        canvas.draw()
        canvas.get_tk_widget().grid(row=1, column=0, padx=10, pady=10)
    
    def create_sentiment_plot(self, parent):
        fig, ax = plt.subplots(figsize=(6,4))
        sns.histplot(reviews_df['Sentiment_Score'], bins=20, kde=False, color='purple', ax=ax)
        ax.set_title("Sentiment Distribution")
        ax.set_xlabel("Sentiment Score")
        ax.set_ylabel("Count")
        canvas = FigureCanvasTkAgg(fig, master=parent)
        canvas.draw()
        canvas.get_tk_widget().grid(row=1, column=1, padx=10, pady=10)

# Run the dashboard
if __name__ == '__main__':
    app = AppDashboard()
    app.mainloop()
