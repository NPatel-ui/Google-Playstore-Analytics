{
 "cells": [
  {
   "cell_type": "code",
   "execution_count": null,
   "metadata": {
    "vscode": {
     "languageId": "plaintext"
    }
   },
   "outputs": [],
   "source": [
    "import pandas as pd\n",
    "#Load the dataset\n",
    "data= pd.read_csv('heart-disease.csv')\n",
    "data\n",
    "print(data)\n",
    "print(data.head())\n",
    "print(data.tail())\n",
    "    data.tail()\n",
    "    data.describe()\n",
    "data.info()\n",
    "import numpy as np\n",
    "df=pd.read_csv('Global EV Data 2024.csv')\n",
    "print(df.isnull().sum())\n",
    "df.info()\n",
    "data['chol']=data['chol'].replace(np.nan,data['chol'].mean())\n",
    "import matplotlib.pyplot as plt\n",
    "import seaborn as sns\n",
    "import plotly.express as px\n",
    "xpoints=np.array([1,2,6,8])\n",
    "ypoints=np.array([3,8,1,10])\n",
    "plt.plot(xpoints,ypoints)\n",
    "plt.show()\n",
    "y=np.array([35,25,25,15])\n",
    "plt.pie(y)\n",
    "plt.show()\n",
    "x = np.random.normal(170,10,250)\n",
    "print(x)\n",
    "plt.hist(x)\n",
    "plt.show()\n",
    "sns.distplot([0,1,2,3,4,5])\n",
    "plt.show()\n",
    "from sklearn.model_selection import train_test_split\n",
    "from sklearn.ensemble import RandomForestRegressor\n",
    "from sklearn.metrics import mean_squared_error, r2_score\n",
    "x_train,x_test,y_train,y_test=train_test_split(x,y,test_size=0.3,random_state=42)\n",
    "import nltk\n",
    "nltk.download('vader_lexicon')\n",
    "import plotly.express as px\n",
    "fig=px.bar(x=[\"A\",\"B\",\"C\"],y=[1,3,2],title=\"Sample Bar Chart\")\n",
    "fig.show()\n",
    "fig.write_html(\"interactive_plot.html\")\n"
   ]
  }
 ],
 "metadata": {
  "language_info": {
   "name": "python"
  }
 },
 "nbformat": 4,
 "nbformat_minor": 2
}
